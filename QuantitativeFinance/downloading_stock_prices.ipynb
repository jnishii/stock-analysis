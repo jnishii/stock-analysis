{
 "cells": [
  {
   "cell_type": "code",
   "execution_count": 1,
   "metadata": {
    "ExecuteTime": {
     "end_time": "2020-01-31T07:49:41.707451Z",
     "start_time": "2020-01-31T07:49:41.329779Z"
    }
   },
   "outputs": [],
   "source": [
    "%matplotlib inline\n",
    "%config InlineBackend.figure_format = 'retina'"
   ]
  },
  {
   "cell_type": "code",
   "execution_count": 1,
   "metadata": {
    "ExecuteTime": {
     "end_time": "2020-01-30T22:40:30.404317Z",
     "start_time": "2020-01-30T22:40:30.400635Z"
    }
   },
   "outputs": [],
   "source": [
    "import matplotlib.pyplot as plt\n",
    "import warnings\n",
    "\n",
    "plt.style.use('seaborn')\n",
    "warnings.simplefilter(action='ignore', category=FutureWarning)"
   ]
  },
  {
   "cell_type": "markdown",
   "metadata": {},
   "source": [
    "# A comprehensive guide to downloading stock prices in Python"
   ]
  },
  {
   "cell_type": "markdown",
   "metadata": {
    "ExecuteTime": {
     "end_time": "2020-01-30T22:23:18.188319Z",
     "start_time": "2020-01-30T22:23:18.184739Z"
    }
   },
   "source": [
    "For the accompanying article, please take a look [here]()."
   ]
  },
  {
   "cell_type": "markdown",
   "metadata": {},
   "source": [
    "## Setup"
   ]
  },
  {
   "cell_type": "code",
   "execution_count": 2,
   "metadata": {
    "ExecuteTime": {
     "end_time": "2020-01-30T23:35:11.826857Z",
     "start_time": "2020-01-30T23:35:11.824372Z"
    }
   },
   "outputs": [],
   "source": [
    "import pandas as pd\n",
    "import yfinance as yf\n",
    "from yahoofinancials import YahooFinancials"
   ]
  },
  {
   "cell_type": "markdown",
   "metadata": {},
   "source": [
    "## Downloading the stock prices using `yfinance`"
   ]
  },
  {
   "cell_type": "markdown",
   "metadata": {},
   "source": [
    "Download Tesla's stock prices between from 2019:"
   ]
  },
  {
   "cell_type": "code",
   "execution_count": 3,
   "metadata": {
    "ExecuteTime": {
     "end_time": "2020-01-30T22:40:32.373718Z",
     "start_time": "2020-01-30T22:40:32.205434Z"
    }
   },
   "outputs": [
    {
     "data": {
      "text/html": [
       "<div>\n",
       "<style scoped>\n",
       "    .dataframe tbody tr th:only-of-type {\n",
       "        vertical-align: middle;\n",
       "    }\n",
       "\n",
       "    .dataframe tbody tr th {\n",
       "        vertical-align: top;\n",
       "    }\n",
       "\n",
       "    .dataframe thead th {\n",
       "        text-align: right;\n",
       "    }\n",
       "</style>\n",
       "<table border=\"1\" class=\"dataframe\">\n",
       "  <thead>\n",
       "    <tr style=\"text-align: right;\">\n",
       "      <th></th>\n",
       "      <th>Open</th>\n",
       "      <th>High</th>\n",
       "      <th>Low</th>\n",
       "      <th>Close</th>\n",
       "      <th>Adj Close</th>\n",
       "      <th>Volume</th>\n",
       "    </tr>\n",
       "    <tr>\n",
       "      <th>Date</th>\n",
       "      <th></th>\n",
       "      <th></th>\n",
       "      <th></th>\n",
       "      <th></th>\n",
       "      <th></th>\n",
       "      <th></th>\n",
       "    </tr>\n",
       "  </thead>\n",
       "  <tbody>\n",
       "    <tr>\n",
       "      <th>2019-01-02</th>\n",
       "      <td>61.220001</td>\n",
       "      <td>63.026001</td>\n",
       "      <td>59.759998</td>\n",
       "      <td>62.023998</td>\n",
       "      <td>62.023998</td>\n",
       "      <td>58293000</td>\n",
       "    </tr>\n",
       "    <tr>\n",
       "      <th>2019-01-03</th>\n",
       "      <td>61.400002</td>\n",
       "      <td>61.880001</td>\n",
       "      <td>59.476002</td>\n",
       "      <td>60.071999</td>\n",
       "      <td>60.071999</td>\n",
       "      <td>34826000</td>\n",
       "    </tr>\n",
       "    <tr>\n",
       "      <th>2019-01-04</th>\n",
       "      <td>61.200001</td>\n",
       "      <td>63.599998</td>\n",
       "      <td>60.546001</td>\n",
       "      <td>63.537998</td>\n",
       "      <td>63.537998</td>\n",
       "      <td>36970500</td>\n",
       "    </tr>\n",
       "    <tr>\n",
       "      <th>2019-01-07</th>\n",
       "      <td>64.344002</td>\n",
       "      <td>67.348000</td>\n",
       "      <td>63.549999</td>\n",
       "      <td>66.991997</td>\n",
       "      <td>66.991997</td>\n",
       "      <td>37756000</td>\n",
       "    </tr>\n",
       "    <tr>\n",
       "      <th>2019-01-08</th>\n",
       "      <td>68.391998</td>\n",
       "      <td>68.802002</td>\n",
       "      <td>65.403999</td>\n",
       "      <td>67.070000</td>\n",
       "      <td>67.070000</td>\n",
       "      <td>35042500</td>\n",
       "    </tr>\n",
       "  </tbody>\n",
       "</table>\n",
       "</div>"
      ],
      "text/plain": [
       "                 Open       High        Low      Close  Adj Close    Volume\n",
       "Date                                                                       \n",
       "2019-01-02  61.220001  63.026001  59.759998  62.023998  62.023998  58293000\n",
       "2019-01-03  61.400002  61.880001  59.476002  60.071999  60.071999  34826000\n",
       "2019-01-04  61.200001  63.599998  60.546001  63.537998  63.537998  36970500\n",
       "2019-01-07  64.344002  67.348000  63.549999  66.991997  66.991997  37756000\n",
       "2019-01-08  68.391998  68.802002  65.403999  67.070000  67.070000  35042500"
      ]
     },
     "execution_count": 3,
     "metadata": {},
     "output_type": "execute_result"
    }
   ],
   "source": [
    "tsla_df = yf.download('TSLA', start='2019-01-01', \n",
    "                      end='2019-12-31', progress=False)\n",
    "tsla_df.head()"
   ]
  },
  {
   "cell_type": "markdown",
   "metadata": {},
   "source": [
    "Use the `Ticker` module to download Tesla's stock prices (all-time):"
   ]
  },
  {
   "cell_type": "code",
   "execution_count": 4,
   "metadata": {
    "ExecuteTime": {
     "end_time": "2020-01-30T22:48:37.442248Z",
     "start_time": "2020-01-30T22:48:33.005793Z"
    }
   },
   "outputs": [
    {
     "data": {
      "image/png": "[encoded data removed]",
      "text/plain": [
       "<Figure size 576x396 with 1 Axes>"
      ]
     },
     "metadata": {},
     "output_type": "display_data"
    }
   ],
   "source": [
    "ticker = yf.Ticker('TSLA')\n",
    "\n",
    "tsla_df = ticker.history(period=\"max\")\n",
    "\n",
    "tsla_df['Close'].plot(title=\"TSLA's stock price\");"
   ]
  },
  {
   "cell_type": "markdown",
   "metadata": {},
   "source": [
    "## Downloading the stock prices using `yahoofinancials`"
   ]
  },
  {
   "cell_type": "code",
   "execution_count": 5,
   "metadata": {
    "ExecuteTime": {
     "end_time": "2020-01-30T23:49:42.177778Z",
     "start_time": "2020-01-30T23:49:41.944726Z"
    }
   },
   "outputs": [
    {
     "data": {
      "text/html": [
       "<div>\n",
       "<style scoped>\n",
       "    .dataframe tbody tr th:only-of-type {\n",
       "        vertical-align: middle;\n",
       "    }\n",
       "\n",
       "    .dataframe tbody tr th {\n",
       "        vertical-align: top;\n",
       "    }\n",
       "\n",
       "    .dataframe thead th {\n",
       "        text-align: right;\n",
       "    }\n",
       "</style>\n",
       "<table border=\"1\" class=\"dataframe\">\n",
       "  <thead>\n",
       "    <tr style=\"text-align: right;\">\n",
       "      <th></th>\n",
       "      <th>high</th>\n",
       "      <th>low</th>\n",
       "      <th>open</th>\n",
       "      <th>close</th>\n",
       "      <th>volume</th>\n",
       "      <th>adjclose</th>\n",
       "    </tr>\n",
       "    <tr>\n",
       "      <th>formatted_date</th>\n",
       "      <th></th>\n",
       "      <th></th>\n",
       "      <th></th>\n",
       "      <th></th>\n",
       "      <th></th>\n",
       "      <th></th>\n",
       "    </tr>\n",
       "  </thead>\n",
       "  <tbody>\n",
       "    <tr>\n",
       "      <th>2010-06-28</th>\n",
       "      <td>6.084</td>\n",
       "      <td>3.508</td>\n",
       "      <td>3.800</td>\n",
       "      <td>3.840</td>\n",
       "      <td>246560000</td>\n",
       "      <td>3.840</td>\n",
       "    </tr>\n",
       "    <tr>\n",
       "      <th>2010-07-05</th>\n",
       "      <td>4.000</td>\n",
       "      <td>2.996</td>\n",
       "      <td>4.000</td>\n",
       "      <td>3.480</td>\n",
       "      <td>127753000</td>\n",
       "      <td>3.480</td>\n",
       "    </tr>\n",
       "    <tr>\n",
       "      <th>2010-07-12</th>\n",
       "      <td>4.300</td>\n",
       "      <td>3.380</td>\n",
       "      <td>3.590</td>\n",
       "      <td>4.128</td>\n",
       "      <td>77194500</td>\n",
       "      <td>4.128</td>\n",
       "    </tr>\n",
       "    <tr>\n",
       "      <th>2010-07-19</th>\n",
       "      <td>4.450</td>\n",
       "      <td>3.900</td>\n",
       "      <td>4.274</td>\n",
       "      <td>4.258</td>\n",
       "      <td>35878500</td>\n",
       "      <td>4.258</td>\n",
       "    </tr>\n",
       "    <tr>\n",
       "      <th>2010-07-26</th>\n",
       "      <td>4.300</td>\n",
       "      <td>3.910</td>\n",
       "      <td>4.300</td>\n",
       "      <td>3.988</td>\n",
       "      <td>15260000</td>\n",
       "      <td>3.988</td>\n",
       "    </tr>\n",
       "  </tbody>\n",
       "</table>\n",
       "</div>"
      ],
      "text/plain": [
       "                 high    low   open  close     volume  adjclose\n",
       "formatted_date                                                 \n",
       "2010-06-28      6.084  3.508  3.800  3.840  246560000     3.840\n",
       "2010-07-05      4.000  2.996  4.000  3.480  127753000     3.480\n",
       "2010-07-12      4.300  3.380  3.590  4.128   77194500     4.128\n",
       "2010-07-19      4.450  3.900  4.274  4.258   35878500     4.258\n",
       "2010-07-26      4.300  3.910  4.300  3.988   15260000     3.988"
      ]
     },
     "execution_count": 5,
     "metadata": {},
     "output_type": "execute_result"
    }
   ],
   "source": [
    "yahoo_financials = YahooFinancials('TSLA')\n",
    "\n",
    "data = yahoo_financials.get_historical_price_data(start_date='2000-01-01', \n",
    "                                                  end_date='2019-12-31', \n",
    "                                                  time_interval='weekly')\n",
    "\n",
    "tsla_df = pd.DataFrame(data['TSLA']['prices'])\n",
    "tsla_df = tsla_df.drop('date', axis=1).set_index('formatted_date')\n",
    "tsla_df.head()"
   ]
  },
  {
   "cell_type": "code",
   "execution_count": 6,
   "metadata": {
    "ExecuteTime": {
     "end_time": "2020-01-30T23:49:45.722450Z",
     "start_time": "2020-01-30T23:49:44.874619Z"
    }
   },
   "outputs": [
    {
     "data": {
      "text/plain": [
       "{'TSLA': {'exchange': 'NMS',\n",
       "  'shortName': 'Tesla, Inc.',\n",
       "  'longName': 'Tesla, Inc.',\n",
       "  'exchangeTimezoneName': 'America/New_York',\n",
       "  'exchangeTimezoneShortName': 'EDT',\n",
       "  'isEsgPopulated': False,\n",
       "  'gmtOffSetMilliseconds': '-14400000',\n",
       "  'quoteType': 'EQUITY',\n",
       "  'symbol': 'TSLA',\n",
       "  'messageBoardId': 'finmb_27444752',\n",
       "  'market': 'us_market'}}"
      ]
     },
     "execution_count": 6,
     "metadata": {},
     "output_type": "execute_result"
    }
   ],
   "source": [
    "yahoo_financials.get_stock_quote_type_data()"
   ]
  },
  {
   "cell_type": "code",
   "execution_count": 7,
   "metadata": {
    "ExecuteTime": {
     "end_time": "2020-01-30T23:49:57.075714Z",
     "start_time": "2020-01-30T23:49:48.973638Z"
    }
   },
   "outputs": [
    {
     "data": {
      "text/plain": [
       "{'TSLA': {'annualHoldingsTurnover': None,\n",
       "  'enterpriseToRevenue': 18.109,\n",
       "  'beta3Year': None,\n",
       "  'profitMargins': 0.0318,\n",
       "  'enterpriseToEbitda': 143.007,\n",
       "  '52WeekChange': 1.4852109,\n",
       "  'morningStarRiskRating': None,\n",
       "  'forwardEps': 6.2,\n",
       "  'revenueQuarterlyGrowth': None,\n",
       "  'sharesOutstanding': 963329984,\n",
       "  'fundInceptionDate': '-',\n",
       "  'annualReportExpenseRatio': None,\n",
       "  'totalAssets': None,\n",
       "  'bookValue': 23.901,\n",
       "  'sharesShort': 39363717,\n",
       "  'sharesPercentSharesOut': 0.040900003,\n",
       "  'fundFamily': None,\n",
       "  'lastFiscalYearEnd': 1609372800,\n",
       "  'heldPercentInstitutions': 0.42685002,\n",
       "  'netIncomeToCommon': 1112000000,\n",
       "  'trailingEps': 0.998,\n",
       "  'lastDividendValue': None,\n",
       "  'SandP52WeekChange': 0.37300396,\n",
       "  'priceToBook': 27.596336,\n",
       "  'heldPercentInsiders': 0.19487,\n",
       "  'nextFiscalYearEnd': 1672444800,\n",
       "  'yield': None,\n",
       "  'mostRecentQuarter': 1617148800,\n",
       "  'shortRatio': 1.52,\n",
       "  'sharesShortPreviousMonthDate': '2021-05-14',\n",
       "  'floatShares': 775057145,\n",
       "  'beta': 1.995108,\n",
       "  'enterpriseValue': 650823073792,\n",
       "  'priceHint': 2,\n",
       "  'threeYearAverageReturn': None,\n",
       "  'lastSplitDate': '2020-08-31',\n",
       "  'lastSplitFactor': '5:1',\n",
       "  'legalType': None,\n",
       "  'lastDividendDate': '-',\n",
       "  'morningStarOverallRating': None,\n",
       "  'earningsQuarterlyGrowth': 26.375,\n",
       "  'priceToSalesTrailing12Months': None,\n",
       "  'dateShortInterest': 1623715200,\n",
       "  'pegRatio': 3.3,\n",
       "  'ytdReturn': None,\n",
       "  'forwardPE': 106.38388,\n",
       "  'maxAge': 1,\n",
       "  'lastCapGain': None,\n",
       "  'shortPercentOfFloat': 0.0508,\n",
       "  'sharesShortPriorMonth': 39869947,\n",
       "  'impliedSharesOutstanding': None,\n",
       "  'category': None,\n",
       "  'fiveYearAverageReturn': None}}"
      ]
     },
     "execution_count": 7,
     "metadata": {},
     "output_type": "execute_result"
    }
   ],
   "source": [
    "yahoo_financials.get_key_statistics_data()"
   ]
  },
  {
   "cell_type": "code",
   "execution_count": 8,
   "metadata": {
    "ExecuteTime": {
     "end_time": "2020-01-30T23:49:57.360496Z",
     "start_time": "2020-01-30T23:49:57.356596Z"
    }
   },
   "outputs": [
    {
     "data": {
      "text/plain": [
       "{'TSLA': {'previousClose': 678.9,\n",
       "  'regularMarketOpen': 681.7115,\n",
       "  'twoHundredDayAverage': 698.9441,\n",
       "  'trailingAnnualDividendYield': None,\n",
       "  'payoutRatio': 0,\n",
       "  'volume24Hr': None,\n",
       "  'regularMarketDayHigh': 684,\n",
       "  'navPrice': None,\n",
       "  'averageDailyVolume10Day': 20724680,\n",
       "  'totalAssets': None,\n",
       "  'regularMarketPreviousClose': 678.9,\n",
       "  'fiftyDayAverage': 622.55664,\n",
       "  'trailingAnnualDividendRate': None,\n",
       "  'open': 681.7115,\n",
       "  'toCurrency': None,\n",
       "  'averageVolume10days': 20724680,\n",
       "  'expireDate': '-',\n",
       "  'yield': None,\n",
       "  'algorithm': None,\n",
       "  'dividendRate': None,\n",
       "  'exDividendDate': '-',\n",
       "  'beta': 1.995108,\n",
       "  'circulatingSupply': None,\n",
       "  'startDate': '-',\n",
       "  'regularMarketDayLow': 651.4002,\n",
       "  'priceHint': 2,\n",
       "  'currency': 'USD',\n",
       "  'trailingPE': 660.9018,\n",
       "  'regularMarketVolume': 23284450,\n",
       "  'lastMarket': None,\n",
       "  'maxSupply': None,\n",
       "  'openInterest': None,\n",
       "  'marketCap': 635393212416,\n",
       "  'volumeAllCurrencies': None,\n",
       "  'strikePrice': None,\n",
       "  'averageVolume': 28450216,\n",
       "  'priceToSalesTrailing12Months': 17.679277,\n",
       "  'dayLow': 651.4002,\n",
       "  'ask': 0,\n",
       "  'ytdReturn': None,\n",
       "  'askSize': 900,\n",
       "  'volume': 23284450,\n",
       "  'fiftyTwoWeekHigh': 900.4,\n",
       "  'forwardPE': 106.38388,\n",
       "  'maxAge': 1,\n",
       "  'fromCurrency': None,\n",
       "  'fiveYearAvgDividendYield': None,\n",
       "  'fiftyTwoWeekLow': 262.268,\n",
       "  'bid': 0,\n",
       "  'tradeable': False,\n",
       "  'dividendYield': None,\n",
       "  'bidSize': 1000,\n",
       "  'dayHigh': 684}}"
      ]
     },
     "execution_count": 8,
     "metadata": {},
     "output_type": "execute_result"
    }
   ],
   "source": [
    "yahoo_financials.get_summary_data()"
   ]
  },
  {
   "cell_type": "code",
   "execution_count": 9,
   "metadata": {
    "ExecuteTime": {
     "end_time": "2020-01-31T00:08:15.505942Z",
     "start_time": "2020-01-31T00:08:15.500677Z"
    }
   },
   "outputs": [
    {
     "data": {
      "text/plain": [
       "{'TSLA': {'earningsData': {'quarterly': [{'date': '2Q2020',\n",
       "     'actual': 0.44,\n",
       "     'estimate': -0.04},\n",
       "    {'date': '3Q2020', 'actual': 0.76, 'estimate': 0.58},\n",
       "    {'date': '4Q2020', 'actual': 0.8, 'estimate': 1.03},\n",
       "    {'date': '1Q2021', 'actual': 0.93, 'estimate': 0.79}],\n",
       "   'currentQuarterEstimate': 0.96,\n",
       "   'currentQuarterEstimateDate': '2Q',\n",
       "   'currentQuarterEstimateYear': 2021,\n",
       "   'earningsDate': [{'raw': 1626739200, 'fmt': '2021-07-20'},\n",
       "    {'raw': 1627257600, 'fmt': '2021-07-26'}]},\n",
       "  'financialsData': {'yearly': [{'date': 2017,\n",
       "     'revenue': 11759000000,\n",
       "     'earnings': -1962000000},\n",
       "    {'date': 2018, 'revenue': 21461000000, 'earnings': -976000000},\n",
       "    {'date': 2019, 'revenue': 24578000000, 'earnings': -862000000},\n",
       "    {'date': 2020, 'revenue': 31536000000, 'earnings': 721000000}],\n",
       "   'quarterly': [{'date': '2Q2020',\n",
       "     'revenue': 6036000000,\n",
       "     'earnings': 104000000},\n",
       "    {'date': '3Q2020', 'revenue': 8771000000, 'earnings': 331000000},\n",
       "    {'date': '4Q2020', 'revenue': 10744000000, 'earnings': 270000000},\n",
       "    {'date': '1Q2021', 'revenue': 10389000000, 'earnings': 438000000}]},\n",
       "  'financialCurrency': 'USD'}}"
      ]
     },
     "execution_count": 9,
     "metadata": {},
     "output_type": "execute_result"
    }
   ],
   "source": [
    "yahoo_financials.get_stock_earnings_data()"
   ]
  },
  {
   "cell_type": "code",
   "execution_count": 10,
   "metadata": {
    "ExecuteTime": {
     "end_time": "2020-01-30T23:47:05.219679Z",
     "start_time": "2020-01-30T23:47:00.458326Z"
    }
   },
   "outputs": [
    {
     "data": {
      "text/plain": [
       "<AxesSubplot:>"
      ]
     },
     "execution_count": 10,
     "metadata": {},
     "output_type": "execute_result"
    },
    {
     "data": {
      "image/png": "[encoded data removed]",
      "text/plain": [
       "<Figure size 576x396 with 1 Axes>"
      ]
     },
     "metadata": {},
     "output_type": "display_data"
    }
   ],
   "source": [
    "assets = ['TSLA', 'MSFT', 'FB']\n",
    "\n",
    "yahoo_financials = YahooFinancials(assets)\n",
    "\n",
    "data = yahoo_financials.get_historical_price_data(start_date='2019-01-01', \n",
    "                                                  end_date='2019-12-31', \n",
    "                                                  time_interval='weekly')\n",
    "\n",
    "prices_df = pd.DataFrame({\n",
    "    a: {x['formatted_date']: x['adjclose'] for x in data[a]['prices']} for a in assets\n",
    "})\n",
    "\n",
    "prices_df.plot()"
   ]
  },
  {
   "cell_type": "code",
   "execution_count": null,
   "metadata": {},
   "outputs": [],
   "source": []
  }
 ],
 "metadata": {
  "kernelspec": {
   "display_name": "Python 3 (ipykernel)",
   "language": "python",
   "name": "python3"
  },
  "language_info": {
   "codemirror_mode": {
    "name": "ipython",
    "version": 3
   },
   "file_extension": ".py",
   "mimetype": "text/x-python",
   "name": "python",
   "nbconvert_exporter": "python",
   "pygments_lexer": "ipython3",
   "version": "3.8.10"
  },
  "toc": {
   "base_numbering": 1,
   "nav_menu": {},
   "number_sections": true,
   "sideBar": true,
   "skip_h1_title": false,
   "title_cell": "Table of Contents",
   "title_sidebar": "Contents",
   "toc_cell": false,
   "toc_position": {},
   "toc_section_display": true,
   "toc_window_display": true
  },
  "varInspector": {
   "cols": {
    "lenName": 16,
    "lenType": 16,
    "lenVar": 40
   },
   "kernels_config": {
    "python": {
     "delete_cmd_postfix": "",
     "delete_cmd_prefix": "del ",
     "library": "var_list.py",
     "varRefreshCmd": "print(var_dic_list())"
    },
    "r": {
     "delete_cmd_postfix": ") ",
     "delete_cmd_prefix": "rm(",
     "library": "var_list.r",
     "varRefreshCmd": "cat(var_dic_list()) "
    }
   },
   "types_to_exclude": [
    "module",
    "function",
    "builtin_function_or_method",
    "instance",
    "_Feature"
   ],
   "window_display": false
  }
 },
 "nbformat": 4,
 "nbformat_minor": 2
}
