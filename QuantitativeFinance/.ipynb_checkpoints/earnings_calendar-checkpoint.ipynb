{
 "cells": [
  {
   "cell_type": "markdown",
   "metadata": {},
   "source": [
    "# How to download the public companies' earnings calendar in Python"
   ]
  },
  {
   "cell_type": "markdown",
   "metadata": {},
   "source": [
    "## Setup"
   ]
  },
  {
   "cell_type": "code",
   "execution_count": 1,
   "metadata": {},
   "outputs": [],
   "source": [
    "import pandas as pd\n",
    "from datetime import datetime\n",
    "from datetime import timedelta\n",
    "from yahoo_earnings_calendar import YahooEarningsCalendar\n",
    "import dateutil.parser"
   ]
  },
  {
   "cell_type": "markdown",
   "metadata": {},
   "source": [
    "## Downloading the earnings calendar using Python"
   ]
  },
  {
   "cell_type": "markdown",
   "metadata": {},
   "source": [
    "### For a specific date"
   ]
  },
  {
   "cell_type": "code",
   "execution_count": 2,
   "metadata": {},
   "outputs": [
    {
     "data": {
      "text/html": [
       "<div>\n",
       "<style scoped>\n",
       "    .dataframe tbody tr th:only-of-type {\n",
       "        vertical-align: middle;\n",
       "    }\n",
       "\n",
       "    .dataframe tbody tr th {\n",
       "        vertical-align: top;\n",
       "    }\n",
       "\n",
       "    .dataframe thead th {\n",
       "        text-align: right;\n",
       "    }\n",
       "</style>\n",
       "<table border=\"1\" class=\"dataframe\">\n",
       "  <thead>\n",
       "    <tr style=\"text-align: right;\">\n",
       "      <th></th>\n",
       "      <th>ticker</th>\n",
       "      <th>companyshortname</th>\n",
       "      <th>startdatetime</th>\n",
       "      <th>startdatetimetype</th>\n",
       "      <th>epsestimate</th>\n",
       "      <th>epsactual</th>\n",
       "      <th>epssurprisepct</th>\n",
       "      <th>timeZoneShortName</th>\n",
       "      <th>gmtOffsetMilliSeconds</th>\n",
       "      <th>quoteType</th>\n",
       "    </tr>\n",
       "  </thead>\n",
       "  <tbody>\n",
       "    <tr>\n",
       "      <th>0</th>\n",
       "      <td>WDFC</td>\n",
       "      <td>WD-40 Co</td>\n",
       "      <td>2021-07-07T20:00:00.000Z</td>\n",
       "      <td>AMC</td>\n",
       "      <td>1.15</td>\n",
       "      <td>None</td>\n",
       "      <td>None</td>\n",
       "      <td>EDT</td>\n",
       "      <td>-14400000</td>\n",
       "      <td>EQUITY</td>\n",
       "    </tr>\n",
       "    <tr>\n",
       "      <th>1</th>\n",
       "      <td>AMBO</td>\n",
       "      <td>Ambow Education Holding Ltd</td>\n",
       "      <td>2021-07-07T10:59:00.000Z</td>\n",
       "      <td>TNS</td>\n",
       "      <td>NaN</td>\n",
       "      <td>None</td>\n",
       "      <td>None</td>\n",
       "      <td>EDT</td>\n",
       "      <td>-14400000</td>\n",
       "      <td>EQUITY</td>\n",
       "    </tr>\n",
       "    <tr>\n",
       "      <th>2</th>\n",
       "      <td>ARTW</td>\n",
       "      <td>Art's Way Manufacturing Co Inc</td>\n",
       "      <td>2021-07-07T10:59:00.000Z</td>\n",
       "      <td>TNS</td>\n",
       "      <td>NaN</td>\n",
       "      <td>None</td>\n",
       "      <td>None</td>\n",
       "      <td>EDT</td>\n",
       "      <td>-14400000</td>\n",
       "      <td>EQUITY</td>\n",
       "    </tr>\n",
       "    <tr>\n",
       "      <th>3</th>\n",
       "      <td>NEA</td>\n",
       "      <td>Nuveen Amt-Free Quality Municipal Income Fund</td>\n",
       "      <td>2021-07-07T10:59:00.000Z</td>\n",
       "      <td>TNS</td>\n",
       "      <td>NaN</td>\n",
       "      <td>None</td>\n",
       "      <td>None</td>\n",
       "      <td>EDT</td>\n",
       "      <td>-14400000</td>\n",
       "      <td>EQUITY</td>\n",
       "    </tr>\n",
       "    <tr>\n",
       "      <th>4</th>\n",
       "      <td>NVG</td>\n",
       "      <td>Nuveen AMT-Free Municipal Credit Income Fund</td>\n",
       "      <td>2021-07-07T10:59:00.000Z</td>\n",
       "      <td>TNS</td>\n",
       "      <td>NaN</td>\n",
       "      <td>None</td>\n",
       "      <td>None</td>\n",
       "      <td>EDT</td>\n",
       "      <td>-14400000</td>\n",
       "      <td>EQUITY</td>\n",
       "    </tr>\n",
       "  </tbody>\n",
       "</table>\n",
       "</div>"
      ],
      "text/plain": [
       "  ticker                               companyshortname  \\\n",
       "0   WDFC                                       WD-40 Co   \n",
       "1   AMBO                    Ambow Education Holding Ltd   \n",
       "2   ARTW                 Art's Way Manufacturing Co Inc   \n",
       "3    NEA  Nuveen Amt-Free Quality Municipal Income Fund   \n",
       "4    NVG   Nuveen AMT-Free Municipal Credit Income Fund   \n",
       "\n",
       "              startdatetime startdatetimetype  epsestimate epsactual  \\\n",
       "0  2021-07-07T20:00:00.000Z               AMC         1.15      None   \n",
       "1  2021-07-07T10:59:00.000Z               TNS          NaN      None   \n",
       "2  2021-07-07T10:59:00.000Z               TNS          NaN      None   \n",
       "3  2021-07-07T10:59:00.000Z               TNS          NaN      None   \n",
       "4  2021-07-07T10:59:00.000Z               TNS          NaN      None   \n",
       "\n",
       "  epssurprisepct timeZoneShortName  gmtOffsetMilliSeconds quoteType  \n",
       "0           None               EDT              -14400000    EQUITY  \n",
       "1           None               EDT              -14400000    EQUITY  \n",
       "2           None               EDT              -14400000    EQUITY  \n",
       "3           None               EDT              -14400000    EQUITY  \n",
       "4           None               EDT              -14400000    EQUITY  "
      ]
     },
     "execution_count": 2,
     "metadata": {},
     "output_type": "execute_result"
    }
   ],
   "source": [
    "# setting the report date\n",
    "report_date = datetime.now().date()\n",
    "\n",
    "# downloading the earnings calendar\n",
    "yec = YahooEarningsCalendar()\n",
    "earnings_list = yec.earnings_on(report_date)\n",
    "\n",
    "# saving the data in a pandas DataFrame\n",
    "earnings_df = pd.DataFrame(earnings_list)\n",
    "earnings_df.head()"
   ]
  },
  {
   "cell_type": "code",
   "execution_count": 4,
   "metadata": {},
   "outputs": [
    {
     "data": {
      "text/plain": [
       "(9, 10)"
      ]
     },
     "execution_count": 4,
     "metadata": {},
     "output_type": "execute_result"
    }
   ],
   "source": [
    "earnings_df.shape"
   ]
  },
  {
   "cell_type": "code",
   "execution_count": 5,
   "metadata": {},
   "outputs": [
    {
     "data": {
      "text/plain": [
       "[{'ticker': 'WDFC',\n",
       "  'companyshortname': 'WD-40 Co',\n",
       "  'startdatetime': '2021-07-07T20:00:00.000Z',\n",
       "  'startdatetimetype': 'AMC',\n",
       "  'epsestimate': 1.15,\n",
       "  'epsactual': None,\n",
       "  'epssurprisepct': None,\n",
       "  'timeZoneShortName': 'EDT',\n",
       "  'gmtOffsetMilliSeconds': -14400000,\n",
       "  'quoteType': 'EQUITY'},\n",
       " {'ticker': 'AMBO',\n",
       "  'companyshortname': 'Ambow Education Holding Ltd',\n",
       "  'startdatetime': '2021-07-07T10:59:00.000Z',\n",
       "  'startdatetimetype': 'TNS',\n",
       "  'epsestimate': None,\n",
       "  'epsactual': None,\n",
       "  'epssurprisepct': None,\n",
       "  'timeZoneShortName': 'EDT',\n",
       "  'gmtOffsetMilliSeconds': -14400000,\n",
       "  'quoteType': 'EQUITY'}]"
      ]
     },
     "execution_count": 5,
     "metadata": {},
     "output_type": "execute_result"
    }
   ],
   "source": [
    "earnings_list[:2]"
   ]
  },
  {
   "cell_type": "markdown",
   "metadata": {},
   "source": [
    "### For a range of dates"
   ]
  },
  {
   "cell_type": "code",
   "execution_count": 6,
   "metadata": {},
   "outputs": [
    {
     "data": {
      "text/html": [
       "<div>\n",
       "<style scoped>\n",
       "    .dataframe tbody tr th:only-of-type {\n",
       "        vertical-align: middle;\n",
       "    }\n",
       "\n",
       "    .dataframe tbody tr th {\n",
       "        vertical-align: top;\n",
       "    }\n",
       "\n",
       "    .dataframe thead th {\n",
       "        text-align: right;\n",
       "    }\n",
       "</style>\n",
       "<table border=\"1\" class=\"dataframe\">\n",
       "  <thead>\n",
       "    <tr style=\"text-align: right;\">\n",
       "      <th></th>\n",
       "      <th>ticker</th>\n",
       "      <th>companyshortname</th>\n",
       "      <th>startdatetime</th>\n",
       "      <th>startdatetimetype</th>\n",
       "      <th>epsestimate</th>\n",
       "      <th>epsactual</th>\n",
       "      <th>epssurprisepct</th>\n",
       "      <th>timeZoneShortName</th>\n",
       "      <th>gmtOffsetMilliSeconds</th>\n",
       "      <th>quoteType</th>\n",
       "    </tr>\n",
       "  </thead>\n",
       "  <tbody>\n",
       "    <tr>\n",
       "      <th>0</th>\n",
       "      <td>WDFC</td>\n",
       "      <td>WD-40 Co</td>\n",
       "      <td>2021-07-07T20:00:00.000Z</td>\n",
       "      <td>AMC</td>\n",
       "      <td>1.15</td>\n",
       "      <td>None</td>\n",
       "      <td>None</td>\n",
       "      <td>EDT</td>\n",
       "      <td>-14400000</td>\n",
       "      <td>EQUITY</td>\n",
       "    </tr>\n",
       "    <tr>\n",
       "      <th>1</th>\n",
       "      <td>AMBO</td>\n",
       "      <td>Ambow Education Holding Ltd</td>\n",
       "      <td>2021-07-07T10:59:00.000Z</td>\n",
       "      <td>TNS</td>\n",
       "      <td>NaN</td>\n",
       "      <td>None</td>\n",
       "      <td>None</td>\n",
       "      <td>EDT</td>\n",
       "      <td>-14400000</td>\n",
       "      <td>EQUITY</td>\n",
       "    </tr>\n",
       "    <tr>\n",
       "      <th>2</th>\n",
       "      <td>ARTW</td>\n",
       "      <td>Art's Way Manufacturing Co Inc</td>\n",
       "      <td>2021-07-07T10:59:00.000Z</td>\n",
       "      <td>TNS</td>\n",
       "      <td>NaN</td>\n",
       "      <td>None</td>\n",
       "      <td>None</td>\n",
       "      <td>EDT</td>\n",
       "      <td>-14400000</td>\n",
       "      <td>EQUITY</td>\n",
       "    </tr>\n",
       "    <tr>\n",
       "      <th>3</th>\n",
       "      <td>NEA</td>\n",
       "      <td>Nuveen Amt-Free Quality Municipal Income Fund</td>\n",
       "      <td>2021-07-07T10:59:00.000Z</td>\n",
       "      <td>TNS</td>\n",
       "      <td>NaN</td>\n",
       "      <td>None</td>\n",
       "      <td>None</td>\n",
       "      <td>EDT</td>\n",
       "      <td>-14400000</td>\n",
       "      <td>EQUITY</td>\n",
       "    </tr>\n",
       "    <tr>\n",
       "      <th>4</th>\n",
       "      <td>NVG</td>\n",
       "      <td>Nuveen AMT-Free Municipal Credit Income Fund</td>\n",
       "      <td>2021-07-07T10:59:00.000Z</td>\n",
       "      <td>TNS</td>\n",
       "      <td>NaN</td>\n",
       "      <td>None</td>\n",
       "      <td>None</td>\n",
       "      <td>EDT</td>\n",
       "      <td>-14400000</td>\n",
       "      <td>EQUITY</td>\n",
       "    </tr>\n",
       "  </tbody>\n",
       "</table>\n",
       "</div>"
      ],
      "text/plain": [
       "  ticker                               companyshortname  \\\n",
       "0   WDFC                                       WD-40 Co   \n",
       "1   AMBO                    Ambow Education Holding Ltd   \n",
       "2   ARTW                 Art's Way Manufacturing Co Inc   \n",
       "3    NEA  Nuveen Amt-Free Quality Municipal Income Fund   \n",
       "4    NVG   Nuveen AMT-Free Municipal Credit Income Fund   \n",
       "\n",
       "              startdatetime startdatetimetype  epsestimate epsactual  \\\n",
       "0  2021-07-07T20:00:00.000Z               AMC         1.15      None   \n",
       "1  2021-07-07T10:59:00.000Z               TNS          NaN      None   \n",
       "2  2021-07-07T10:59:00.000Z               TNS          NaN      None   \n",
       "3  2021-07-07T10:59:00.000Z               TNS          NaN      None   \n",
       "4  2021-07-07T10:59:00.000Z               TNS          NaN      None   \n",
       "\n",
       "  epssurprisepct timeZoneShortName  gmtOffsetMilliSeconds quoteType  \n",
       "0           None               EDT              -14400000    EQUITY  \n",
       "1           None               EDT              -14400000    EQUITY  \n",
       "2           None               EDT              -14400000    EQUITY  \n",
       "3           None               EDT              -14400000    EQUITY  \n",
       "4           None               EDT              -14400000    EQUITY  "
      ]
     },
     "execution_count": 6,
     "metadata": {},
     "output_type": "execute_result"
    }
   ],
   "source": [
    "DAYS_AHEAD = 7\n",
    "\n",
    "# setting the dates\n",
    "start_date = datetime.now().date()\n",
    "end_date = (datetime.now().date() + timedelta(days=DAYS_AHEAD))\n",
    "\n",
    "# downloading the earnings calendar\n",
    "yec = YahooEarningsCalendar()\n",
    "earnings_list = yec.earnings_between(start_date, end_date)\n",
    "\n",
    "# saving the data in a pandas DataFrame\n",
    "earnings_df = pd.DataFrame(earnings_list)\n",
    "earnings_df.head()"
   ]
  },
  {
   "cell_type": "code",
   "execution_count": 7,
   "metadata": {},
   "outputs": [
    {
     "data": {
      "text/plain": [
       "(85, 10)"
      ]
     },
     "execution_count": 7,
     "metadata": {},
     "output_type": "execute_result"
    }
   ],
   "source": [
    "earnings_df.shape"
   ]
  },
  {
   "cell_type": "markdown",
   "metadata": {},
   "source": [
    "### For a specific product"
   ]
  },
  {
   "cell_type": "code",
   "execution_count": 8,
   "metadata": {},
   "outputs": [
    {
     "data": {
      "text/html": [
       "<div>\n",
       "<style scoped>\n",
       "    .dataframe tbody tr th:only-of-type {\n",
       "        vertical-align: middle;\n",
       "    }\n",
       "\n",
       "    .dataframe tbody tr th {\n",
       "        vertical-align: top;\n",
       "    }\n",
       "\n",
       "    .dataframe thead th {\n",
       "        text-align: right;\n",
       "    }\n",
       "</style>\n",
       "<table border=\"1\" class=\"dataframe\">\n",
       "  <thead>\n",
       "    <tr style=\"text-align: right;\">\n",
       "      <th></th>\n",
       "      <th>ticker</th>\n",
       "      <th>companyshortname</th>\n",
       "      <th>startdatetime</th>\n",
       "      <th>startdatetimetype</th>\n",
       "      <th>epsestimate</th>\n",
       "      <th>epsactual</th>\n",
       "      <th>epssurprisepct</th>\n",
       "      <th>timeZoneShortName</th>\n",
       "      <th>gmtOffsetMilliSeconds</th>\n",
       "      <th>quoteType</th>\n",
       "      <th>report_date</th>\n",
       "    </tr>\n",
       "  </thead>\n",
       "  <tbody>\n",
       "    <tr>\n",
       "      <th>3</th>\n",
       "      <td>TWTR</td>\n",
       "      <td>Twitter Inc</td>\n",
       "      <td>2021-07-22T20:00:00.000Z</td>\n",
       "      <td>AMC</td>\n",
       "      <td>0.07</td>\n",
       "      <td>NaN</td>\n",
       "      <td>NaN</td>\n",
       "      <td>EDT</td>\n",
       "      <td>-14400000</td>\n",
       "      <td>EQUITY</td>\n",
       "      <td>2021-07-22</td>\n",
       "    </tr>\n",
       "    <tr>\n",
       "      <th>2</th>\n",
       "      <td>TWTR</td>\n",
       "      <td>Twitter Inc</td>\n",
       "      <td>2021-10-27T10:59:00.000Z</td>\n",
       "      <td>TNS</td>\n",
       "      <td>NaN</td>\n",
       "      <td>NaN</td>\n",
       "      <td>NaN</td>\n",
       "      <td>EDT</td>\n",
       "      <td>-14400000</td>\n",
       "      <td>EQUITY</td>\n",
       "      <td>2021-10-27</td>\n",
       "    </tr>\n",
       "  </tbody>\n",
       "</table>\n",
       "</div>"
      ],
      "text/plain": [
       "  ticker companyshortname             startdatetime startdatetimetype  \\\n",
       "3   TWTR      Twitter Inc  2021-07-22T20:00:00.000Z               AMC   \n",
       "2   TWTR      Twitter Inc  2021-10-27T10:59:00.000Z               TNS   \n",
       "\n",
       "   epsestimate  epsactual  epssurprisepct timeZoneShortName  \\\n",
       "3         0.07        NaN             NaN               EDT   \n",
       "2          NaN        NaN             NaN               EDT   \n",
       "\n",
       "   gmtOffsetMilliSeconds quoteType report_date  \n",
       "3              -14400000    EQUITY  2021-07-22  \n",
       "2              -14400000    EQUITY  2021-10-27  "
      ]
     },
     "execution_count": 8,
     "metadata": {},
     "output_type": "execute_result"
    }
   ],
   "source": [
    "# setting the parameters \n",
    "TICKER = 'TWTR'\n",
    "DAYS_AHEAD = 180\n",
    "\n",
    "# setting the dates\n",
    "start_date = datetime.now().date()\n",
    "end_date = (datetime.now().date() + timedelta(days=DAYS_AHEAD))\n",
    "\n",
    "# downloading the earnings calendar\n",
    "yec = YahooEarningsCalendar()\n",
    "earnings_list = yec.get_earnings_of(TICKER)\n",
    "earnings_df = pd.DataFrame(earnings_list)\n",
    "\n",
    "# extracting the date from the string and filtering for the period of interest\n",
    "earnings_df['report_date'] = earnings_df['startdatetime'].apply(lambda x: dateutil.parser.isoparse(x).date())\n",
    "earnings_df = earnings_df.loc[earnings_df['report_date'].between(start_date, end_date)] \\\n",
    "                         .sort_values('report_date')\n",
    "\n",
    "earnings_df"
   ]
  },
  {
   "cell_type": "code",
   "execution_count": null,
   "metadata": {},
   "outputs": [],
   "source": []
  }
 ],
 "metadata": {
  "kernelspec": {
   "display_name": "Python 3 (ipykernel)",
   "language": "python",
   "name": "python3"
  },
  "language_info": {
   "codemirror_mode": {
    "name": "ipython",
    "version": 3
   },
   "file_extension": ".py",
   "mimetype": "text/x-python",
   "name": "python",
   "nbconvert_exporter": "python",
   "pygments_lexer": "ipython3",
   "version": "3.8.10"
  },
  "toc": {
   "base_numbering": 1,
   "nav_menu": {},
   "number_sections": true,
   "sideBar": true,
   "skip_h1_title": false,
   "title_cell": "Table of Contents",
   "title_sidebar": "Contents",
   "toc_cell": false,
   "toc_position": {},
   "toc_section_display": true,
   "toc_window_display": false
  }
 },
 "nbformat": 4,
 "nbformat_minor": 4
}
