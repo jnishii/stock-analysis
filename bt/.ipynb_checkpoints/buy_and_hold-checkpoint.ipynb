{
 "cells": [
  {
   "cell_type": "code",
   "execution_count": 1,
   "metadata": {},
   "outputs": [],
   "source": [
    "import numpy as np\n",
    "import pandas as pd\n",
    "import matplotlib.pyplot as plt\n",
    "\n",
    "import ffn\n",
    "import bt\n",
    "\n",
    "%matplotlib inline"
   ]
  },
  {
   "cell_type": "markdown",
   "metadata": {},
   "source": [
    "### Create Fake Index Data"
   ]
  },
  {
   "cell_type": "code",
   "execution_count": 2,
   "metadata": {},
   "outputs": [
    {
     "data": {
      "text/plain": [
       "<matplotlib.axes._subplots.AxesSubplot at 0x7f3c1ff1d3c8>"
      ]
     },
     "execution_count": 2,
     "metadata": {},
     "output_type": "execute_result"
    },
    {
     "data": {
      "image/png": "[encoded data removed]",
      "text/plain": [
       "<Figure size 432x288 with 1 Axes>"
      ]
     },
     "metadata": {
      "needs_background": "light"
     },
     "output_type": "display_data"
    }
   ],
   "source": [
    "names = ['foo','bar','rf']\n",
    "dates = pd.date_range(start='2017-01-01',end='2017-12-31', freq=pd.tseries.offsets.BDay())\n",
    "n = len(dates)\n",
    "rdf = pd.DataFrame(\n",
    "    np.zeros((n, len(names))),\n",
    "    index = dates,\n",
    "    columns = names\n",
    ")\n",
    "\n",
    "np.random.seed(1)\n",
    "rdf['foo'] = np.random.normal(loc = 0.1/n,scale=0.2/np.sqrt(n),size=n)\n",
    "rdf['bar'] = np.random.normal(loc = 0.04/n,scale=0.05/np.sqrt(n),size=n)\n",
    "rdf['rf'] = 0.\n",
    "\n",
    "pdf = 100*np.cumprod(1+rdf)\n",
    "pdf.plot()"
   ]
  },
  {
   "cell_type": "markdown",
   "metadata": {},
   "source": [
    "### Build Strategy"
   ]
  },
  {
   "cell_type": "code",
   "execution_count": 3,
   "metadata": {},
   "outputs": [],
   "source": [
    "# algo to fire on the beginning of every month and to run on the first date\n",
    "runMonthlyAlgo = bt.algos.RunMonthly(\n",
    "    run_on_first_date=True\n",
    ")\n",
    "\n",
    "# algo to set the weights\n",
    "#  it will only run when runMonthlyAlgo returns true\n",
    "#  which only happens on the first of every month\n",
    "weights = pd.Series([0.6,0.4,0.],index = rdf.columns)\n",
    "weighSpecifiedAlgo = bt.algos.WeighSpecified(**weights)\n",
    "\n",
    "# algo to rebalance the current weights to weights set by weighSpecified\n",
    "#  will only run when weighSpecifiedAlgo returns true\n",
    "#  which happens every time it runs\n",
    "rebalAlgo = bt.algos.Rebalance()\n",
    "\n",
    "# a strategy that rebalances monthly to specified weights\n",
    "strat = bt.Strategy('static',\n",
    "    [\n",
    "        runMonthlyAlgo,\n",
    "        weighSpecifiedAlgo,\n",
    "        rebalAlgo\n",
    "    ]\n",
    ")"
   ]
  },
  {
   "cell_type": "markdown",
   "metadata": {},
   "source": [
    "### Run Backtest\n",
    "\n",
    "Note: The logic of the strategy is seperate from the data used in the backtest."
   ]
  },
  {
   "cell_type": "code",
   "execution_count": 4,
   "metadata": {},
   "outputs": [],
   "source": [
    "# set integer_positions=False when positions are not required to be integers(round numbers)\n",
    "backtest = bt.Backtest(\n",
    "    strat,\n",
    "    pdf,\n",
    "    integer_positions=False\n",
    ")\n",
    "\n",
    "res = bt.run(backtest)"
   ]
  },
  {
   "cell_type": "code",
   "execution_count": 5,
   "metadata": {},
   "outputs": [
    {
     "data": {
      "text/html": [
       "<div>\n",
       "<style scoped>\n",
       "    .dataframe tbody tr th:only-of-type {\n",
       "        vertical-align: middle;\n",
       "    }\n",
       "\n",
       "    .dataframe tbody tr th {\n",
       "        vertical-align: top;\n",
       "    }\n",
       "\n",
       "    .dataframe thead th {\n",
       "        text-align: right;\n",
       "    }\n",
       "</style>\n",
       "<table border=\"1\" class=\"dataframe\">\n",
       "  <thead>\n",
       "    <tr style=\"text-align: right;\">\n",
       "      <th></th>\n",
       "      <th>static</th>\n",
       "    </tr>\n",
       "  </thead>\n",
       "  <tbody>\n",
       "    <tr>\n",
       "      <td>start</td>\n",
       "      <td>2017-01-01 00:00:00</td>\n",
       "    </tr>\n",
       "    <tr>\n",
       "      <td>end</td>\n",
       "      <td>2017-12-29 00:00:00</td>\n",
       "    </tr>\n",
       "    <tr>\n",
       "      <td>rf</td>\n",
       "      <td>0</td>\n",
       "    </tr>\n",
       "    <tr>\n",
       "      <td>total_return</td>\n",
       "      <td>0.229372</td>\n",
       "    </tr>\n",
       "    <tr>\n",
       "      <td>cagr</td>\n",
       "      <td>0.231653</td>\n",
       "    </tr>\n",
       "    <tr>\n",
       "      <td>max_drawdown</td>\n",
       "      <td>-0.0692566</td>\n",
       "    </tr>\n",
       "    <tr>\n",
       "      <td>calmar</td>\n",
       "      <td>3.34485</td>\n",
       "    </tr>\n",
       "    <tr>\n",
       "      <td>mtd</td>\n",
       "      <td>-0.000905607</td>\n",
       "    </tr>\n",
       "    <tr>\n",
       "      <td>three_month</td>\n",
       "      <td>0.00597538</td>\n",
       "    </tr>\n",
       "    <tr>\n",
       "      <td>six_month</td>\n",
       "      <td>0.142562</td>\n",
       "    </tr>\n",
       "    <tr>\n",
       "      <td>ytd</td>\n",
       "      <td>0.229372</td>\n",
       "    </tr>\n",
       "    <tr>\n",
       "      <td>one_year</td>\n",
       "      <td>NaN</td>\n",
       "    </tr>\n",
       "    <tr>\n",
       "      <td>three_year</td>\n",
       "      <td>NaN</td>\n",
       "    </tr>\n",
       "    <tr>\n",
       "      <td>five_year</td>\n",
       "      <td>NaN</td>\n",
       "    </tr>\n",
       "    <tr>\n",
       "      <td>ten_year</td>\n",
       "      <td>NaN</td>\n",
       "    </tr>\n",
       "    <tr>\n",
       "      <td>incep</td>\n",
       "      <td>0.231653</td>\n",
       "    </tr>\n",
       "    <tr>\n",
       "      <td>daily_sharpe</td>\n",
       "      <td>1.80455</td>\n",
       "    </tr>\n",
       "    <tr>\n",
       "      <td>daily_sortino</td>\n",
       "      <td>3.30615</td>\n",
       "    </tr>\n",
       "    <tr>\n",
       "      <td>daily_mean</td>\n",
       "      <td>0.206762</td>\n",
       "    </tr>\n",
       "    <tr>\n",
       "      <td>daily_vol</td>\n",
       "      <td>0.114578</td>\n",
       "    </tr>\n",
       "    <tr>\n",
       "      <td>daily_skew</td>\n",
       "      <td>0.0122082</td>\n",
       "    </tr>\n",
       "    <tr>\n",
       "      <td>daily_kurt</td>\n",
       "      <td>-0.0445598</td>\n",
       "    </tr>\n",
       "    <tr>\n",
       "      <td>best_day</td>\n",
       "      <td>0.0204024</td>\n",
       "    </tr>\n",
       "    <tr>\n",
       "      <td>worst_day</td>\n",
       "      <td>-0.0201002</td>\n",
       "    </tr>\n",
       "    <tr>\n",
       "      <td>monthly_sharpe</td>\n",
       "      <td>2.80644</td>\n",
       "    </tr>\n",
       "    <tr>\n",
       "      <td>monthly_sortino</td>\n",
       "      <td>15.3525</td>\n",
       "    </tr>\n",
       "    <tr>\n",
       "      <td>monthly_mean</td>\n",
       "      <td>0.257101</td>\n",
       "    </tr>\n",
       "    <tr>\n",
       "      <td>monthly_vol</td>\n",
       "      <td>0.0916111</td>\n",
       "    </tr>\n",
       "    <tr>\n",
       "      <td>monthly_skew</td>\n",
       "      <td>0.753881</td>\n",
       "    </tr>\n",
       "    <tr>\n",
       "      <td>monthly_kurt</td>\n",
       "      <td>0.456278</td>\n",
       "    </tr>\n",
       "    <tr>\n",
       "      <td>best_month</td>\n",
       "      <td>0.0736565</td>\n",
       "    </tr>\n",
       "    <tr>\n",
       "      <td>worst_month</td>\n",
       "      <td>-0.0145918</td>\n",
       "    </tr>\n",
       "    <tr>\n",
       "      <td>yearly_sharpe</td>\n",
       "      <td>NaN</td>\n",
       "    </tr>\n",
       "    <tr>\n",
       "      <td>yearly_sortino</td>\n",
       "      <td>NaN</td>\n",
       "    </tr>\n",
       "    <tr>\n",
       "      <td>yearly_mean</td>\n",
       "      <td>NaN</td>\n",
       "    </tr>\n",
       "    <tr>\n",
       "      <td>yearly_vol</td>\n",
       "      <td>NaN</td>\n",
       "    </tr>\n",
       "    <tr>\n",
       "      <td>yearly_skew</td>\n",
       "      <td>NaN</td>\n",
       "    </tr>\n",
       "    <tr>\n",
       "      <td>yearly_kurt</td>\n",
       "      <td>NaN</td>\n",
       "    </tr>\n",
       "    <tr>\n",
       "      <td>best_year</td>\n",
       "      <td>NaN</td>\n",
       "    </tr>\n",
       "    <tr>\n",
       "      <td>worst_year</td>\n",
       "      <td>NaN</td>\n",
       "    </tr>\n",
       "    <tr>\n",
       "      <td>avg_drawdown</td>\n",
       "      <td>-0.0160522</td>\n",
       "    </tr>\n",
       "    <tr>\n",
       "      <td>avg_drawdown_days</td>\n",
       "      <td>12.6957</td>\n",
       "    </tr>\n",
       "    <tr>\n",
       "      <td>avg_up_month</td>\n",
       "      <td>0.0324599</td>\n",
       "    </tr>\n",
       "    <tr>\n",
       "      <td>avg_down_month</td>\n",
       "      <td>-0.00800092</td>\n",
       "    </tr>\n",
       "    <tr>\n",
       "      <td>win_year_perc</td>\n",
       "      <td>NaN</td>\n",
       "    </tr>\n",
       "    <tr>\n",
       "      <td>twelve_month_win_perc</td>\n",
       "      <td>NaN</td>\n",
       "    </tr>\n",
       "  </tbody>\n",
       "</table>\n",
       "</div>"
      ],
      "text/plain": [
       "                                    static\n",
       "start                  2017-01-01 00:00:00\n",
       "end                    2017-12-29 00:00:00\n",
       "rf                                       0\n",
       "total_return                      0.229372\n",
       "cagr                              0.231653\n",
       "max_drawdown                    -0.0692566\n",
       "calmar                             3.34485\n",
       "mtd                           -0.000905607\n",
       "three_month                     0.00597538\n",
       "six_month                         0.142562\n",
       "ytd                               0.229372\n",
       "one_year                               NaN\n",
       "three_year                             NaN\n",
       "five_year                              NaN\n",
       "ten_year                               NaN\n",
       "incep                             0.231653\n",
       "daily_sharpe                       1.80455\n",
       "daily_sortino                      3.30615\n",
       "daily_mean                        0.206762\n",
       "daily_vol                         0.114578\n",
       "daily_skew                       0.0122082\n",
       "daily_kurt                      -0.0445598\n",
       "best_day                         0.0204024\n",
       "worst_day                       -0.0201002\n",
       "monthly_sharpe                     2.80644\n",
       "monthly_sortino                    15.3525\n",
       "monthly_mean                      0.257101\n",
       "monthly_vol                      0.0916111\n",
       "monthly_skew                      0.753881\n",
       "monthly_kurt                      0.456278\n",
       "best_month                       0.0736565\n",
       "worst_month                     -0.0145918\n",
       "yearly_sharpe                          NaN\n",
       "yearly_sortino                         NaN\n",
       "yearly_mean                            NaN\n",
       "yearly_vol                             NaN\n",
       "yearly_skew                            NaN\n",
       "yearly_kurt                            NaN\n",
       "best_year                              NaN\n",
       "worst_year                             NaN\n",
       "avg_drawdown                    -0.0160522\n",
       "avg_drawdown_days                  12.6957\n",
       "avg_up_month                     0.0324599\n",
       "avg_down_month                 -0.00800092\n",
       "win_year_perc                          NaN\n",
       "twelve_month_win_perc                  NaN"
      ]
     },
     "execution_count": 5,
     "metadata": {},
     "output_type": "execute_result"
    }
   ],
   "source": [
    "res.stats"
   ]
  },
  {
   "cell_type": "code",
   "execution_count": 6,
   "metadata": {},
   "outputs": [
    {
     "data": {
      "text/html": [
       "<div>\n",
       "<style scoped>\n",
       "    .dataframe tbody tr th:only-of-type {\n",
       "        vertical-align: middle;\n",
       "    }\n",
       "\n",
       "    .dataframe tbody tr th {\n",
       "        vertical-align: top;\n",
       "    }\n",
       "\n",
       "    .dataframe thead th {\n",
       "        text-align: right;\n",
       "    }\n",
       "</style>\n",
       "<table border=\"1\" class=\"dataframe\">\n",
       "  <thead>\n",
       "    <tr style=\"text-align: right;\">\n",
       "      <th></th>\n",
       "      <th>static</th>\n",
       "    </tr>\n",
       "  </thead>\n",
       "  <tbody>\n",
       "    <tr>\n",
       "      <td>2017-01-01</td>\n",
       "      <td>100.000000</td>\n",
       "    </tr>\n",
       "    <tr>\n",
       "      <td>2017-01-02</td>\n",
       "      <td>100.000000</td>\n",
       "    </tr>\n",
       "    <tr>\n",
       "      <td>2017-01-03</td>\n",
       "      <td>99.384719</td>\n",
       "    </tr>\n",
       "    <tr>\n",
       "      <td>2017-01-04</td>\n",
       "      <td>99.121677</td>\n",
       "    </tr>\n",
       "    <tr>\n",
       "      <td>2017-01-05</td>\n",
       "      <td>98.316364</td>\n",
       "    </tr>\n",
       "  </tbody>\n",
       "</table>\n",
       "</div>"
      ],
      "text/plain": [
       "                static\n",
       "2017-01-01  100.000000\n",
       "2017-01-02  100.000000\n",
       "2017-01-03   99.384719\n",
       "2017-01-04   99.121677\n",
       "2017-01-05   98.316364"
      ]
     },
     "execution_count": 6,
     "metadata": {},
     "output_type": "execute_result"
    }
   ],
   "source": [
    "res.prices.head()"
   ]
  },
  {
   "cell_type": "code",
   "execution_count": 7,
   "metadata": {},
   "outputs": [
    {
     "data": {
      "image/png": "[encoded data removed]",
      "text/plain": [
       "<Figure size 1080x360 with 1 Axes>"
      ]
     },
     "metadata": {
      "needs_background": "light"
     },
     "output_type": "display_data"
    }
   ],
   "source": [
    "res.plot_security_weights()"
   ]
  },
  {
   "cell_type": "markdown",
   "metadata": {},
   "source": [
    "Strategy value over time"
   ]
  },
  {
   "cell_type": "code",
   "execution_count": 8,
   "metadata": {},
   "outputs": [
    {
     "data": {
      "text/plain": [
       "<matplotlib.axes._subplots.AxesSubplot at 0x7f3c1e9cb240>"
      ]
     },
     "execution_count": 8,
     "metadata": {},
     "output_type": "execute_result"
    },
    {
     "data": {
      "image/png": "[encoded data removed]",
      "text/plain": [
       "<Figure size 432x288 with 1 Axes>"
      ]
     },
     "metadata": {
      "needs_background": "light"
     },
     "output_type": "display_data"
    }
   ],
   "source": [
    "performanceStats = res['static']\n",
    "#performance stats is an ffn object\n",
    "res.backtest_list[0].strategy.values.plot()"
   ]
  },
  {
   "cell_type": "markdown",
   "metadata": {},
   "source": [
    "Strategy Outlays\n",
    "\n",
    "Outlays are the total dollar amount spent(gained) by a purchase(sale) of securities."
   ]
  },
  {
   "cell_type": "code",
   "execution_count": 9,
   "metadata": {},
   "outputs": [
    {
     "data": {
      "text/plain": [
       "<matplotlib.axes._subplots.AxesSubplot at 0x7f3c1e9e3240>"
      ]
     },
     "execution_count": 9,
     "metadata": {},
     "output_type": "execute_result"
    },
    {
     "data": {
      "image/png": "[encoded data removed]",
      "text/plain": [
       "<Figure size 432x288 with 1 Axes>"
      ]
     },
     "metadata": {
      "needs_background": "light"
     },
     "output_type": "display_data"
    }
   ],
   "source": [
    "res.backtest_list[0].strategy.outlays.plot()"
   ]
  },
  {
   "cell_type": "markdown",
   "metadata": {},
   "source": [
    "You can get the change in number of shares purchased a"
   ]
  },
  {
   "cell_type": "code",
   "execution_count": 10,
   "metadata": {},
   "outputs": [
    {
     "data": {
      "text/html": [
       "<div>\n",
       "<style scoped>\n",
       "    .dataframe tbody tr th:only-of-type {\n",
       "        vertical-align: middle;\n",
       "    }\n",
       "\n",
       "    .dataframe tbody tr th {\n",
       "        vertical-align: top;\n",
       "    }\n",
       "\n",
       "    .dataframe thead th {\n",
       "        text-align: right;\n",
       "    }\n",
       "</style>\n",
       "<table border=\"1\" class=\"dataframe\">\n",
       "  <thead>\n",
       "    <tr style=\"text-align: right;\">\n",
       "      <th></th>\n",
       "      <th>foo</th>\n",
       "      <th>bar</th>\n",
       "    </tr>\n",
       "  </thead>\n",
       "  <tbody>\n",
       "    <tr>\n",
       "      <td>2017-01-01</td>\n",
       "      <td>0.000000</td>\n",
       "      <td>0.000000</td>\n",
       "    </tr>\n",
       "    <tr>\n",
       "      <td>2017-01-02</td>\n",
       "      <td>5879.285683</td>\n",
       "      <td>3998.068018</td>\n",
       "    </tr>\n",
       "    <tr>\n",
       "      <td>2017-01-03</td>\n",
       "      <td>5879.285683</td>\n",
       "      <td>3998.068018</td>\n",
       "    </tr>\n",
       "    <tr>\n",
       "      <td>2017-01-04</td>\n",
       "      <td>5879.285683</td>\n",
       "      <td>3998.068018</td>\n",
       "    </tr>\n",
       "    <tr>\n",
       "      <td>2017-01-05</td>\n",
       "      <td>5879.285683</td>\n",
       "      <td>3998.068018</td>\n",
       "    </tr>\n",
       "    <tr>\n",
       "      <td>...</td>\n",
       "      <td>...</td>\n",
       "      <td>...</td>\n",
       "    </tr>\n",
       "    <tr>\n",
       "      <td>2017-12-25</td>\n",
       "      <td>5324.589093</td>\n",
       "      <td>4673.239436</td>\n",
       "    </tr>\n",
       "    <tr>\n",
       "      <td>2017-12-26</td>\n",
       "      <td>5324.589093</td>\n",
       "      <td>4673.239436</td>\n",
       "    </tr>\n",
       "    <tr>\n",
       "      <td>2017-12-27</td>\n",
       "      <td>5324.589093</td>\n",
       "      <td>4673.239436</td>\n",
       "    </tr>\n",
       "    <tr>\n",
       "      <td>2017-12-28</td>\n",
       "      <td>5324.589093</td>\n",
       "      <td>4673.239436</td>\n",
       "    </tr>\n",
       "    <tr>\n",
       "      <td>2017-12-29</td>\n",
       "      <td>5324.589093</td>\n",
       "      <td>4673.239436</td>\n",
       "    </tr>\n",
       "  </tbody>\n",
       "</table>\n",
       "<p>261 rows × 2 columns</p>\n",
       "</div>"
      ],
      "text/plain": [
       "                    foo          bar\n",
       "2017-01-01     0.000000     0.000000\n",
       "2017-01-02  5879.285683  3998.068018\n",
       "2017-01-03  5879.285683  3998.068018\n",
       "2017-01-04  5879.285683  3998.068018\n",
       "2017-01-05  5879.285683  3998.068018\n",
       "...                 ...          ...\n",
       "2017-12-25  5324.589093  4673.239436\n",
       "2017-12-26  5324.589093  4673.239436\n",
       "2017-12-27  5324.589093  4673.239436\n",
       "2017-12-28  5324.589093  4673.239436\n",
       "2017-12-29  5324.589093  4673.239436\n",
       "\n",
       "[261 rows x 2 columns]"
      ]
     },
     "execution_count": 10,
     "metadata": {},
     "output_type": "execute_result"
    }
   ],
   "source": [
    "security_names = res.backtest_list[0].strategy.outlays.columns\n",
    "\n",
    "\n",
    "res.backtest_list[0].strategy.outlays/pdf.loc[:,security_names]\n",
    "res.backtest_list[0].positions.diff(1)\n",
    "res.backtest_list[0].positions"
   ]
  },
  {
   "cell_type": "code",
   "execution_count": null,
   "metadata": {},
   "outputs": [],
   "source": []
  }
 ],
 "metadata": {
  "kernelspec": {
   "display_name": "Python 3",
   "language": "python",
   "name": "python3"
  },
  "language_info": {
   "codemirror_mode": {
    "name": "ipython",
    "version": 3
   },
   "file_extension": ".py",
   "mimetype": "text/x-python",
   "name": "python",
   "nbconvert_exporter": "python",
   "pygments_lexer": "ipython3",
   "version": "3.7.3"
  },
  "toc": {
   "base_numbering": 1,
   "nav_menu": {},
   "number_sections": true,
   "sideBar": true,
   "skip_h1_title": false,
   "title_cell": "Table of Contents",
   "title_sidebar": "Contents",
   "toc_cell": false,
   "toc_position": {},
   "toc_section_display": true,
   "toc_window_display": false
  }
 },
 "nbformat": 4,
 "nbformat_minor": 2
}
