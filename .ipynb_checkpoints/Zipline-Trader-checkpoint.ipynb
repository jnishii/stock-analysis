{
 "cells": [
  {
   "cell_type": "markdown",
   "id": "5a82ea09",
   "metadata": {},
   "source": [
    "# Algo Template of Zipline Trader\n",
    "https://zipline-trader.readthedocs.io/en/latest/backtest.html"
   ]
  },
  {
   "cell_type": "code",
   "execution_count": 4,
   "id": "ebea4a53",
   "metadata": {},
   "outputs": [
    {
     "ename": "ValueError",
     "evalue": "no data for bundle 'alpaca_api' on or before 2021-07-07 23:30:42.790580+00:00\nmaybe you need to run: $ zipline ingest -b alpaca_api",
     "output_type": "error",
     "traceback": [
      "\u001b[0;31m---------------------------------------------------------------------------\u001b[0m",
      "\u001b[0;31mFileNotFoundError\u001b[0m                         Traceback (most recent call last)",
      "\u001b[0;32m/zipline/zipline/data/bundles/core.py\u001b[0m in \u001b[0;36mmost_recent_data\u001b[0;34m(bundle_name, timestamp, environ)\u001b[0m\n\u001b[1;32m    541\u001b[0m             candidates = os.listdir(\n\u001b[0;32m--> 542\u001b[0;31m                 \u001b[0mpth\u001b[0m\u001b[0;34m.\u001b[0m\u001b[0mdata_path\u001b[0m\u001b[0;34m(\u001b[0m\u001b[0;34m[\u001b[0m\u001b[0mbundle_name\u001b[0m\u001b[0;34m]\u001b[0m\u001b[0;34m,\u001b[0m \u001b[0menviron\u001b[0m\u001b[0;34m=\u001b[0m\u001b[0menviron\u001b[0m\u001b[0;34m)\u001b[0m\u001b[0;34m,\u001b[0m\u001b[0;34m\u001b[0m\u001b[0m\n\u001b[0m\u001b[1;32m    543\u001b[0m             )\n",
      "\u001b[0;31mFileNotFoundError\u001b[0m: [Errno 2] No such file or directory: '/projects/.zipline/data/alpaca_api'",
      "\nDuring handling of the above exception, another exception occurred:\n",
      "\u001b[0;31mValueError\u001b[0m                                Traceback (most recent call last)",
      "\u001b[0;32m<ipython-input-4-90a0ccefca33>\u001b[0m in \u001b[0;36m<module>\u001b[0;34m\u001b[0m\n\u001b[1;32m     44\u001b[0m \u001b[0;32mif\u001b[0m \u001b[0m__name__\u001b[0m \u001b[0;34m==\u001b[0m \u001b[0;34m'__main__'\u001b[0m\u001b[0;34m:\u001b[0m\u001b[0;34m\u001b[0m\u001b[0m\n\u001b[1;32m     45\u001b[0m     \u001b[0mbundle_name\u001b[0m \u001b[0;34m=\u001b[0m \u001b[0;34m'alpaca_api'\u001b[0m\u001b[0;34m\u001b[0m\u001b[0m\n\u001b[0;32m---> 46\u001b[0;31m     \u001b[0mbundle_data\u001b[0m \u001b[0;34m=\u001b[0m \u001b[0mbundles\u001b[0m\u001b[0;34m.\u001b[0m\u001b[0mload\u001b[0m\u001b[0;34m(\u001b[0m\u001b[0mbundle_name\u001b[0m\u001b[0;34m)\u001b[0m\u001b[0;34m\u001b[0m\u001b[0m\n\u001b[0m\u001b[1;32m     47\u001b[0m \u001b[0;34m\u001b[0m\u001b[0m\n\u001b[1;32m     48\u001b[0m     \u001b[0;31m# Set the trading calendar\u001b[0m\u001b[0;34m\u001b[0m\u001b[0;34m\u001b[0m\u001b[0m\n",
      "\u001b[0;32m/zipline/zipline/data/bundles/core.py\u001b[0m in \u001b[0;36mload\u001b[0;34m(name, environ, timestamp)\u001b[0m\n\u001b[1;32m    591\u001b[0m             \u001b[0mminute_bar_reader\u001b[0m \u001b[0;34m=\u001b[0m \u001b[0;32mNone\u001b[0m\u001b[0;34m\u001b[0m\u001b[0m\n\u001b[1;32m    592\u001b[0m         \u001b[0;32melse\u001b[0m\u001b[0;34m:\u001b[0m\u001b[0;34m\u001b[0m\u001b[0m\n\u001b[0;32m--> 593\u001b[0;31m             \u001b[0mtimestr\u001b[0m \u001b[0;34m=\u001b[0m \u001b[0mmost_recent_data\u001b[0m\u001b[0;34m(\u001b[0m\u001b[0mname\u001b[0m\u001b[0;34m,\u001b[0m \u001b[0mtimestamp\u001b[0m\u001b[0;34m,\u001b[0m \u001b[0menviron\u001b[0m\u001b[0;34m=\u001b[0m\u001b[0menviron\u001b[0m\u001b[0;34m)\u001b[0m\u001b[0;34m\u001b[0m\u001b[0m\n\u001b[0m\u001b[1;32m    594\u001b[0m             \u001b[0massets_db_path\u001b[0m \u001b[0;34m=\u001b[0m \u001b[0masset_db_path\u001b[0m\u001b[0;34m(\u001b[0m\u001b[0mname\u001b[0m\u001b[0;34m,\u001b[0m \u001b[0mtimestr\u001b[0m\u001b[0;34m,\u001b[0m \u001b[0menviron\u001b[0m\u001b[0;34m=\u001b[0m\u001b[0menviron\u001b[0m\u001b[0;34m)\u001b[0m\u001b[0;34m\u001b[0m\u001b[0m\n\u001b[1;32m    595\u001b[0m             \u001b[0madjustments_db_path\u001b[0m \u001b[0;34m=\u001b[0m \u001b[0madjustment_db_path\u001b[0m\u001b[0;34m(\u001b[0m\u001b[0mname\u001b[0m\u001b[0;34m,\u001b[0m \u001b[0mtimestr\u001b[0m\u001b[0;34m,\u001b[0m \u001b[0menviron\u001b[0m\u001b[0;34m=\u001b[0m\u001b[0menviron\u001b[0m\u001b[0;34m)\u001b[0m\u001b[0;34m\u001b[0m\u001b[0m\n",
      "\u001b[0;32m/zipline/zipline/data/bundles/core.py\u001b[0m in \u001b[0;36mmost_recent_data\u001b[0;34m(bundle_name, timestamp, environ)\u001b[0m\n\u001b[1;32m    557\u001b[0m                 'maybe you need to run: $ zipline ingest -b {bundle}'.format(\n\u001b[1;32m    558\u001b[0m                     \u001b[0mbundle\u001b[0m\u001b[0;34m=\u001b[0m\u001b[0mbundle_name\u001b[0m\u001b[0;34m,\u001b[0m\u001b[0;34m\u001b[0m\u001b[0m\n\u001b[0;32m--> 559\u001b[0;31m                     \u001b[0mtimestamp\u001b[0m\u001b[0;34m=\u001b[0m\u001b[0mtimestamp\u001b[0m\u001b[0;34m,\u001b[0m\u001b[0;34m\u001b[0m\u001b[0m\n\u001b[0m\u001b[1;32m    560\u001b[0m                 ),\n\u001b[1;32m    561\u001b[0m             )\n",
      "\u001b[0;31mValueError\u001b[0m: no data for bundle 'alpaca_api' on or before 2021-07-07 23:30:42.790580+00:00\nmaybe you need to run: $ zipline ingest -b alpaca_api"
     ]
    }
   ],
   "source": [
    "import pytz\n",
    "import pandas as pd\n",
    "from datetime import datetime\n",
    "import matplotlib.pyplot as plt\n",
    "import pandas_datareader.data as yahoo_reader\n",
    "\n",
    "from zipline.utils.calendars import get_calendar\n",
    "from zipline.api import order_target, symbol\n",
    "from zipline.data import bundles\n",
    "from zipline import run_algorithm\n",
    "\n",
    "\n",
    "def get_benchmark(symbol=None, start=None, end=None):\n",
    "    bm = yahoo_reader.DataReader(symbol,\n",
    "                                 'yahoo',\n",
    "                                 pd.Timestamp(start),\n",
    "                                 pd.Timestamp(end))['Close']\n",
    "    bm.index = bm.index.tz_localize('UTC')\n",
    "    return bm.pct_change(periods=1).fillna(0)\n",
    "\n",
    "\n",
    "def initialize(context):\n",
    "    context.equity = symbol(\"AMZN\")\n",
    "\n",
    "\n",
    "def handle_data(context, data):\n",
    "    order_target(context.equity, 100)\n",
    "\n",
    "\n",
    "def before_trading_start(context, data):\n",
    "    pass\n",
    "\n",
    "\n",
    "def analyze(context, perf):\n",
    "    ax1 = plt.subplot(211)\n",
    "    perf.portfolio_value.plot(ax=ax1)\n",
    "    ax2 = plt.subplot(212, sharex=ax1)\n",
    "    perf.sym.plot(ax=ax2, color='r')\n",
    "    plt.gcf().set_size_inches(18, 8)\n",
    "    plt.legend(['Algo', 'Benchmark'])\n",
    "    plt.ylabel(\"Returns\", color='black', size=25)\n",
    "\n",
    "\n",
    "if __name__ == '__main__':\n",
    "    bundle_name = 'alpaca_api'\n",
    "    bundle_data = bundles.load(bundle_name)\n",
    "\n",
    "    # Set the trading calendar\n",
    "    trading_calendar = get_calendar('NYSE')\n",
    "\n",
    "    start = pd.Timestamp(datetime(2020, 1, 1, tzinfo=pytz.UTC))\n",
    "    end = pd.Timestamp(datetime(2020, 11, 1, tzinfo=pytz.UTC))\n",
    "\n",
    "    r = run_algorithm(start=start,\n",
    "                      end=end,\n",
    "                      initialize=initialize,\n",
    "                      capital_base=100000,\n",
    "                      handle_data=handle_data,\n",
    "                      benchmark_returns=get_benchmark(symbol=\"SPY\",\n",
    "                                                      start=start.date().isoformat(),\n",
    "                                                      end=end.date().isoformat()),\n",
    "                      bundle='alpaca_api',\n",
    "                      broker=None,\n",
    "                      state_filename=\"./demo.state\",\n",
    "                      trading_calendar=trading_calendar,\n",
    "                      before_trading_start=before_trading_start,\n",
    "                      #                   analyze=analyze,\n",
    "                      data_frequency='daily'\n",
    "                      )\n",
    "    fig, axes = plt.subplots(1, 1, figsize=(16, 5), sharex=True)\n",
    "    r.algorithm_period_return.plot(color='blue')\n",
    "    r.benchmark_period_return.plot(color='red')\n",
    "\n",
    "    plt.legend(['Algo', 'Benchmark'])\n",
    "    plt.ylabel(\"Returns\", color='black', size=20)\n",
    "    plt.show()"
   ]
  },
  {
   "cell_type": "code",
   "execution_count": null,
   "id": "468b4156",
   "metadata": {},
   "outputs": [],
   "source": []
  },
  {
   "cell_type": "code",
   "execution_count": null,
   "id": "7e9331b8",
   "metadata": {},
   "outputs": [],
   "source": []
  }
 ],
 "metadata": {
  "kernelspec": {
   "display_name": "Python 3",
   "language": "python",
   "name": "python3"
  },
  "language_info": {
   "codemirror_mode": {
    "name": "ipython",
    "version": 3
   },
   "file_extension": ".py",
   "mimetype": "text/x-python",
   "name": "python",
   "nbconvert_exporter": "python",
   "pygments_lexer": "ipython3",
   "version": "3.6.6"
  }
 },
 "nbformat": 4,
 "nbformat_minor": 5
}
