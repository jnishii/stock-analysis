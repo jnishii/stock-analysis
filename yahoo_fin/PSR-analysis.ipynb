{
 "cells": [
  {
   "cell_type": "markdown",
   "id": "4e60c43f",
   "metadata": {},
   "source": [
    "# PSR analysis"
   ]
  },
  {
   "cell_type": "markdown",
   "id": "d92c9055",
   "metadata": {},
   "source": [
    "## import modules and difine basic modules & functions"
   ]
  },
  {
   "cell_type": "code",
   "execution_count": 1,
   "id": "ed2e503a",
   "metadata": {},
   "outputs": [],
   "source": [
    "import pandas as pd\n",
    "import matplotlib.pyplot as plt\n",
    "import seaborn as sns\n",
    "\n",
    "import yahoo_fin.stock_info as si\n",
    "\n",
    "# private module\n",
    "import mystock_info as mi"
   ]
  },
  {
   "cell_type": "markdown",
   "id": "ac129f0b",
   "metadata": {},
   "source": [
    "## Ticker list of stock indexes\n",
    "\n",
    "ticker listの取得"
   ]
  },
  {
   "cell_type": "code",
   "execution_count": 7,
   "id": "491b2cf9",
   "metadata": {},
   "outputs": [
    {
     "name": "stdout",
     "output_type": "stream",
     "text": [
      "30\n",
      "4848\n",
      "505\n",
      "6102\n"
     ]
    }
   ],
   "source": [
    "# get ticker list\n",
    "tickers_dow = si.tickers_dow()\n",
    "tickers_nasdaq = si.tickers_nasdaq()\n",
    "tickers_sp500 = si.tickers_sp500()\n",
    "tickers_other = si.tickers_other()\n",
    "\n",
    "print(len(tickers_dow))\n",
    "print(len(tickers_nasdaq))\n",
    "print(len(tickers_sp500))\n",
    "print(len(tickers_other))"
   ]
  },
  {
   "cell_type": "markdown",
   "id": "f179d0ed",
   "metadata": {},
   "source": [
    "## Get data! It takes a while, so please be patient!\n",
    "\n",
    "一度に取得するのはせいぜい40-50個くらいのデータにしないとエラーが出る。\n",
    "\n",
    "- データはキャッシュされるので，少しずつためるのでもOK。\n",
    "- キャッシュ保存日数は引数`clear_cache`で指定。デフォルトは7日"
   ]
  },
  {
   "cell_type": "code",
   "execution_count": 8,
   "id": "0dcddf1e",
   "metadata": {},
   "outputs": [
    {
     "data": {
      "image/png": "[encoded data removed]",
      "text/plain": [
       "<Figure size 432x288 with 1 Axes>"
      ]
     },
     "metadata": {},
     "output_type": "display_data"
    },
    {
     "name": "stdout",
     "output_type": "stream",
     "text": [
      "The top 5 PSR stocks (<function today at 0x7fe3509e6790>)\n"
     ]
    },
    {
     "data": {
      "text/html": [
       "<div>\n",
       "<style scoped>\n",
       "    .dataframe tbody tr th:only-of-type {\n",
       "        vertical-align: middle;\n",
       "    }\n",
       "\n",
       "    .dataframe tbody tr th {\n",
       "        vertical-align: top;\n",
       "    }\n",
       "\n",
       "    .dataframe thead th {\n",
       "        text-align: right;\n",
       "    }\n",
       "</style>\n",
       "<table border=\"1\" class=\"dataframe\">\n",
       "  <thead>\n",
       "    <tr style=\"text-align: right;\">\n",
       "      <th>info</th>\n",
       "      <th>Market Cap</th>\n",
       "      <th>Previous Close</th>\n",
       "      <th>1y Target Est</th>\n",
       "      <th>Price/Sales (ttm)</th>\n",
       "      <th>PE Ratio (TTM)</th>\n",
       "      <th>Price/Book (mrq)</th>\n",
       "      <th>Earnings Date</th>\n",
       "    </tr>\n",
       "    <tr>\n",
       "      <th>Ticker</th>\n",
       "      <th></th>\n",
       "      <th></th>\n",
       "      <th></th>\n",
       "      <th></th>\n",
       "      <th></th>\n",
       "      <th></th>\n",
       "      <th></th>\n",
       "    </tr>\n",
       "  </thead>\n",
       "  <tbody>\n",
       "    <tr>\n",
       "      <th>V</th>\n",
       "      <td>545.956B</td>\n",
       "      <td>248.55</td>\n",
       "      <td>268.97</td>\n",
       "      <td>25.57</td>\n",
       "      <td>51.29</td>\n",
       "      <td>15.43</td>\n",
       "      <td>Jul 27, 2021</td>\n",
       "    </tr>\n",
       "    <tr>\n",
       "      <th>MSFT</th>\n",
       "      <td>2.114T</td>\n",
       "      <td>281.03</td>\n",
       "      <td>298.92</td>\n",
       "      <td>13.22</td>\n",
       "      <td>38.26</td>\n",
       "      <td>15.73</td>\n",
       "      <td>Jul 27, 2021</td>\n",
       "    </tr>\n",
       "    <tr>\n",
       "      <th>CRM</th>\n",
       "      <td>229.907B</td>\n",
       "      <td>242.11</td>\n",
       "      <td>278.66</td>\n",
       "      <td>10.29</td>\n",
       "      <td>52.35</td>\n",
       "      <td>5.40</td>\n",
       "      <td>Aug 23, 2021 - Aug 27, 2021</td>\n",
       "    </tr>\n",
       "    <tr>\n",
       "      <th>MCD</th>\n",
       "      <td>175.164B</td>\n",
       "      <td>236.88</td>\n",
       "      <td>258.34</td>\n",
       "      <td>8.93</td>\n",
       "      <td>34.07</td>\n",
       "      <td>NaN</td>\n",
       "      <td>Jul 28, 2021</td>\n",
       "    </tr>\n",
       "    <tr>\n",
       "      <th>AAPL</th>\n",
       "      <td>2.45T</td>\n",
       "      <td>145.40</td>\n",
       "      <td>159.34</td>\n",
       "      <td>7.53</td>\n",
       "      <td>33.00</td>\n",
       "      <td>35.41</td>\n",
       "      <td>Jul 27, 2021</td>\n",
       "    </tr>\n",
       "  </tbody>\n",
       "</table>\n",
       "</div>"
      ],
      "text/plain": [
       "info   Market Cap  Previous Close  1y Target Est  Price/Sales (ttm)  \\\n",
       "Ticker                                                                \n",
       "V        545.956B          248.55         268.97              25.57   \n",
       "MSFT       2.114T          281.03         298.92              13.22   \n",
       "CRM      229.907B          242.11         278.66              10.29   \n",
       "MCD      175.164B          236.88         258.34               8.93   \n",
       "AAPL        2.45T          145.40         159.34               7.53   \n",
       "\n",
       "info    PE Ratio (TTM)  Price/Book (mrq)                Earnings Date  \n",
       "Ticker                                                                 \n",
       "V                51.29             15.43                 Jul 27, 2021  \n",
       "MSFT             38.26             15.73                 Jul 27, 2021  \n",
       "CRM              52.35              5.40  Aug 23, 2021 - Aug 27, 2021  \n",
       "MCD              34.07               NaN                 Jul 28, 2021  \n",
       "AAPL             33.00             35.41                 Jul 27, 2021  "
      ]
     },
     "metadata": {},
     "output_type": "display_data"
    }
   ],
   "source": [
    "# get data of stock indexes\n",
    "df_dow = mi.get_financial_data(tickers=tickers_dow, clear_cache=7)\n",
    "df_dow_final = mi.plot_financials(df_dow, table=False)"
   ]
  },
  {
   "cell_type": "code",
   "execution_count": null,
   "id": "fd23be1a",
   "metadata": {},
   "outputs": [],
   "source": []
  }
 ],
 "metadata": {
  "jupytext": {
   "encoding": "# -*- coding: utf-8 -*-",
   "formats": "ipynb,py:percent"
  },
  "kernelspec": {
   "display_name": "Python 3",
   "language": "python",
   "name": "python3"
  },
  "language_info": {
   "codemirror_mode": {
    "name": "ipython",
    "version": 3
   },
   "file_extension": ".py",
   "mimetype": "text/x-python",
   "name": "python",
   "nbconvert_exporter": "python",
   "pygments_lexer": "ipython3",
   "version": "3.8.8"
  },
  "nbTranslate": {
   "displayLangs": [
    "*"
   ],
   "hotkey": "alt-t",
   "langInMainMenu": true,
   "sourceLang": "en",
   "targetLang": "fr",
   "useGoogleTranslate": true
  },
  "toc": {
   "base_numbering": 1,
   "nav_menu": {},
   "number_sections": true,
   "sideBar": true,
   "skip_h1_title": false,
   "title_cell": "Table of Contents",
   "title_sidebar": "Contents",
   "toc_cell": false,
   "toc_position": {},
   "toc_section_display": true,
   "toc_window_display": false
  }
 },
 "nbformat": 4,
 "nbformat_minor": 5
}
